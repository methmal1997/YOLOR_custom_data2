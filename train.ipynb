{
 "cells": [
  {
   "cell_type": "code",
   "execution_count": 1,
   "id": "2133ce96",
   "metadata": {
    "jupyter": {
     "outputs_hidden": false
    },
    "pycharm": {
     "name": "#%%\n"
    }
   },
   "outputs": [
    {
     "name": "stdout",
     "output_type": "stream",
     "text": [
      "1.7.0\n"
     ]
    }
   ],
   "source": [
    "import torch as t\n",
    "print(t.__version__)"
   ]
  },
  {
   "cell_type": "code",
   "execution_count": 2,
   "id": "d34e044a",
   "metadata": {
    "jupyter": {
     "outputs_hidden": false
    },
    "pycharm": {
     "name": "#%%\n"
    }
   },
   "outputs": [
    {
     "name": "stdout",
     "output_type": "stream",
     "text": [
      "3.7.13\n"
     ]
    }
   ],
   "source": [
    "from platform import python_version\n",
    "print(python_version())"
   ]
  },
  {
   "cell_type": "code",
   "execution_count": 3,
   "id": "18f73029",
   "metadata": {
    "jupyter": {
     "outputs_hidden": false
    },
    "pycharm": {
     "name": "#%%\n"
    }
   },
   "outputs": [],
   "source": [
    "# !git clone https://github.com/WongKinYiu/yolor.git"
   ]
  },
  {
   "cell_type": "code",
   "execution_count": 4,
   "id": "0ceaa31d",
   "metadata": {
    "jupyter": {
     "outputs_hidden": false
    },
    "pycharm": {
     "name": "#%%\n"
    }
   },
   "outputs": [
    {
     "name": "stdout",
     "output_type": "stream",
     "text": [
      "/data/shared/methmal/PycharmProjects/YOLOR_custom_data2/YOLOR_direct\n"
     ]
    }
   ],
   "source": [
    "%cd YOLOR_direct"
   ]
  },
  {
   "cell_type": "code",
   "execution_count": 5,
   "id": "421e04f2",
   "metadata": {
    "jupyter": {
     "outputs_hidden": false
    },
    "pycharm": {
     "name": "#%%\n"
    }
   },
   "outputs": [],
   "source": [
    "#  conda  install pytorch==1.12.0 torchvision==0.13.0 -c  pytorch"
   ]
  },
  {
   "cell_type": "code",
   "execution_count": 6,
   "id": "7112a854",
   "metadata": {
    "jupyter": {
     "outputs_hidden": false
    },
    "pycharm": {
     "name": "#%%\n"
    }
   },
   "outputs": [],
   "source": [
    "# !pip install -r requirements.txt"
   ]
  },
  {
   "cell_type": "code",
   "execution_count": null,
   "id": "e93b3860",
   "metadata": {
    "jupyter": {
     "outputs_hidden": false
    },
    "pycharm": {
     "name": "#%%\n"
    }
   },
   "outputs": [
    {
     "name": "stdout",
     "output_type": "stream",
     "text": [
      "Using torch 1.7.0 CUDA:0 (GeForce RTX 2060 SUPER, 7982MB)\n",
      "\n",
      "Namespace(adam=False, batch_size=1, bucket='', cache_images=False, cfg='cfg/yolor_p6_custom.cfg', data='./data/custom.yaml', device='0', epochs=300, evolve=False, exist_ok=False, global_rank=-1, hyp='./data/hyp.scratch.1280.yaml', image_weights=False, img_size=[1280, 1280], local_rank=-1, log_imgs=16, multi_scale=False, name='yolor_p6', noautoanchor=False, nosave=False, notest=False, project='runs/train', rect=False, resume=False, save_dir='runs/train/yolor_p619', single_cls=False, sync_bn=False, total_batch_size=1, weights='yolor_p6.pt', workers=8, world_size=1)\n",
      "Start Tensorboard with \"tensorboard --logdir runs/train\", view at http://localhost:6006/\n",
      "Hyperparameters {'lr0': 0.01, 'lrf': 0.2, 'momentum': 0.937, 'weight_decay': 0.0005, 'warmup_epochs': 3.0, 'warmup_momentum': 0.8, 'warmup_bias_lr': 0.1, 'box': 0.05, 'cls': 0.5, 'cls_pw': 1.0, 'obj': 1.0, 'obj_pw': 1.0, 'iou_t': 0.2, 'anchor_t': 4.0, 'fl_gamma': 0.0, 'hsv_h': 0.015, 'hsv_s': 0.7, 'hsv_v': 0.4, 'degrees': 0.0, 'translate': 0.5, 'scale': 0.5, 'shear': 0.0, 'perspective': 0.0, 'flipud': 0.0, 'fliplr': 0.5, 'mosaic': 1.0, 'mixup': 0.0}\n",
      "Model Summary: 665 layers, 36843816 parameters, 36843816 gradients, 80.662502400 GFLOPS\n",
      "Transferred 850/862 items from yolor_p6.pt\n",
      "Optimizer groups: 145 .bias, 145 conv.weight, 149 other\n",
      "Scanning images: 100%|███████████████████| 1739/1739 [00:00<00:00, 11955.21it/s]\n",
      "Scanning labels /data/shared/methmal/PycharmProjects/YOLOR_custom_data2/YOLOR_direct/ordataset/dataset.cache3 (1739 found, 0 missing, 0 empty, 0 duplicate, for 1739 images): 1739it [00:00, 19945.84it/s]\n",
      "Scanning images: 100%|█████████████████████| 193/193 [00:00<00:00, 12745.43it/s]\n",
      "Scanning labels /data/shared/methmal/PycharmProjects/YOLOR_custom_data2/YOLOR_direct/ordataset/dataset.cache3 (193 found, 0 missing, 0 empty, 0 duplicate, for 193 images): 193it [00:00, 17907.33it/s]\n",
      "Image sizes 1280 train, 1280 test\n",
      "Using 0 dataloader workers\n",
      "Logging results to runs/train/yolor_p619\n",
      "Starting training for 300 epochs...\n",
      "\n",
      "     Epoch   gpu_mem       box       obj       cls     total   targets  img_size\n",
      "     0/299     5.03G   0.05761   0.02477    0.0225    0.1049         1      1280\n",
      "\n",
      "     Epoch   gpu_mem       box       obj       cls     total   targets  img_size\n",
      "     1/299     5.03G   0.04287   0.01764   0.02079    0.0813        22      1280\n",
      "\n",
      "     Epoch   gpu_mem       box       obj       cls     total   targets  img_size\n",
      "     2/299     5.03G   0.04124   0.01691   0.02031   0.07846         2      1280\n",
      "\n",
      "     Epoch   gpu_mem       box       obj       cls     total   targets  img_size\n",
      "     3/299     5.03G   0.03499   0.01759   0.01947   0.07205         5      1280"
     ]
    }
   ],
   "source": [
    "!python train.py --batch-size 1 --img 1280 1280 --data custom.yaml --cfg cfg/yolor_p6_custom.cfg --weights 'yolor_p6.pt' --device 0 --name yolor_p6 --hyp data/hyp.scratch.1280.yaml --epochs 300"
   ]
  },
  {
   "cell_type": "code",
   "execution_count": null,
   "id": "9b66de9e",
   "metadata": {
    "jupyter": {
     "outputs_hidden": false
    },
    "pycharm": {
     "name": "#%%\n"
    }
   },
   "outputs": [
    {
     "name": "stdout",
     "output_type": "stream",
     "text": [
      "Using torch 1.7.0 CUDA:0 (GeForce RTX 2060 SUPER, 7982MB)\n",
      "\n",
      "Namespace(adam=False, batch_size=1, bucket='', cache_images=False, cfg='cfg/yolor_p6_custom.cfg', data='./data/custom.yaml', device='0', epochs=300, evolve=False, exist_ok=False, global_rank=-1, hyp='data/hyp.scratch.1280.yaml', image_weights=False, img_size=[1280, 1280], local_rank=-1, log_imgs=16, multi_scale=False, name='exp', noautoanchor=False, nosave=False, notest=False, project='runs/train', rect=False, resume=False, save_dir='runs/train/exp3', single_cls=False, sync_bn=False, total_batch_size=1, weights='runs/train/yolor_p619/weights/last.pt', workers=8, world_size=1)\n",
      "Start Tensorboard with \"tensorboard --logdir runs/train\", view at http://localhost:6006/\n",
      "Hyperparameters {'lr0': 0.01, 'lrf': 0.2, 'momentum': 0.937, 'weight_decay': 0.0005, 'warmup_epochs': 3.0, 'warmup_momentum': 0.8, 'warmup_bias_lr': 0.1, 'box': 0.05, 'cls': 0.5, 'cls_pw': 1.0, 'obj': 1.0, 'obj_pw': 1.0, 'iou_t': 0.2, 'anchor_t': 4.0, 'fl_gamma': 0.0, 'hsv_h': 0.015, 'hsv_s': 0.7, 'hsv_v': 0.4, 'degrees': 0.0, 'translate': 0.5, 'scale': 0.5, 'shear': 0.0, 'perspective': 0.0, 'flipud': 0.0, 'fliplr': 0.5, 'mosaic': 1.0, 'mixup': 0.0}\n",
      "Model Summary: 665 layers, 36843816 parameters, 36843816 gradients, 80.662502400 GFLOPS\n",
      "Transferred 862/862 items from runs/train/yolor_p619/weights/last.pt\n",
      "Optimizer groups: 145 .bias, 145 conv.weight, 149 other\n",
      "Scanning images: 100%|███████████████████| 1739/1739 [00:00<00:00, 12417.87it/s]\n",
      "Scanning labels /data/shared/methmal/PycharmProjects/YOLOR_custom_data2/YOLOR_direct/ordataset/dataset.cache3 (1739 found, 0 missing, 0 empty, 0 duplicate, for 1739 images): 1739it [00:00, 19792.40it/s]\n",
      "Scanning images: 100%|█████████████████████| 193/193 [00:00<00:00, 12741.62it/s]\n",
      "Scanning labels /data/shared/methmal/PycharmProjects/YOLOR_custom_data2/YOLOR_direct/ordataset/dataset.cache3 (193 found, 0 missing, 0 empty, 0 duplicate, for 193 images): 193it [00:00, 20181.51it/s]\n",
      "Image sizes 1280 train, 1280 test\n",
      "Using 0 dataloader workers\n",
      "Logging results to runs/train/exp3\n",
      "Starting training for 300 epochs...\n",
      "\n",
      "     Epoch   gpu_mem       box       obj       cls     total   targets  img_size\n",
      "     4/299     5.16G   0.02915    0.0186   0.01809   0.06585         1      1280\n",
      "               Class      Images     Targets           P           R      mAP@.5\n",
      "                 all         193         705       0.291       0.592       0.383         0.2\n",
      "\n",
      "     Epoch   gpu_mem       box       obj       cls     total   targets  img_size\n",
      "     5/299     5.15G   0.03043   0.01948   0.01662   0.06653         2      1280"
     ]
    }
   ],
   "source": [
    "!python train.py --cfg cfg/yolor_p6_custom.cfg --weights 'runs/train/yolor_p619/weights/last.pt' --batch-size 1 --img 1280 1280 --data custom.yaml  --hyp data/hyp.scratch.1280.yaml --device 0"
   ]
  },
  {
   "cell_type": "code",
   "execution_count": null,
   "id": "55e4005e-edaa-49fb-b850-03167a998a87",
   "metadata": {
    "pycharm": {
     "name": "#%%\n"
    }
   },
   "outputs": [],
   "source": []
  }
 ],
 "metadata": {
  "kernelspec": {
   "display_name": "Python 3 (ipykernel)",
   "language": "python",
   "name": "python3"
  },
  "language_info": {
   "codemirror_mode": {
    "name": "ipython",
    "version": 3
   },
   "file_extension": ".py",
   "mimetype": "text/x-python",
   "name": "python",
   "nbconvert_exporter": "python",
   "pygments_lexer": "ipython3",
   "version": "3.7.13"
  }
 },
 "nbformat": 4,
 "nbformat_minor": 5
}
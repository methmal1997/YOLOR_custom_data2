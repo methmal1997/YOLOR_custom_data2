{
 "cells": [
  {
   "cell_type": "code",
   "execution_count": 1,
   "id": "b2bfa54b",
   "metadata": {
    "jupyter": {
     "outputs_hidden": false
    },
    "pycharm": {
     "name": "#%%\n"
    }
   },
   "outputs": [
    {
     "name": "stdout",
     "output_type": "stream",
     "text": [
      "1.7.0\n"
     ]
    }
   ],
   "source": [
    "import torch as t\n",
    "print(t.__version__)"
   ]
  },
  {
   "cell_type": "code",
   "execution_count": 2,
   "id": "0181480a",
   "metadata": {
    "jupyter": {
     "outputs_hidden": false
    },
    "pycharm": {
     "name": "#%%\n"
    }
   },
   "outputs": [
    {
     "name": "stdout",
     "output_type": "stream",
     "text": [
      "/data/shared/methmal/PycharmProjects/YOLOR_custom_data2/YOLOR_direct\n"
     ]
    }
   ],
   "source": [
    "%cd YOLOR_direct"
   ]
  },
  {
   "cell_type": "code",
   "execution_count": 5,
   "id": "1870dd84-fcb1-4047-936f-7b4536f1f481",
   "metadata": {
    "pycharm": {
     "name": "#%%\n"
    }
   },
   "outputs": [
    {
     "name": "stdout",
     "output_type": "stream",
     "text": [
      "Namespace(agnostic_nms=False, augment=False, cfg='cfg/yolor_p6_custom.cfg', classes=None, conf_thres=0.4, device='0', img_size=1280, iou_thres=0.5, names='data/classes.names', output='inference/output', save_txt=False, source='inference/images/test1.jpeg', update=False, view_img=False, weights=['runs/train/exp3/weights/best.pt'])\n",
      "image 1/1 /data/shared/methmal/PycharmProjects/YOLOR_custom_data2/YOLOR_direct/inference/images/test1.jpeg: 1152x1280 1 Womans, Done. (0.058s)\n",
      "Results saved to inference/output\n",
      "Done. (0.367s)\n"
     ]
    }
   ],
   "source": [
    "!python detect.py --source inference/images/test1.jpeg --cfg cfg/yolor_p6_custom.cfg --weights runs/train/exp3/weights/best.pt --img-size 1280 --device 0 --names data/classes.names"
   ]
  },
  {
   "cell_type": "code",
   "execution_count": 6,
   "id": "17f13195",
   "metadata": {
    "pycharm": {
     "name": "#%%\n"
    }
   },
   "outputs": [],
   "source": [
    "# !python detect.py --source inference/images/test1.jpeg --weights yolor_p6.pt --device 0 "
   ]
  },
  {
   "cell_type": "code",
   "execution_count": 7,
   "id": "244a121e",
   "metadata": {
    "jupyter": {
     "outputs_hidden": false
    },
    "pycharm": {
     "name": "#%%\n"
    }
   },
   "outputs": [
    {
     "data": {
      "image/jpeg": "[encoded data removed]",
      "text/plain": [
       "<IPython.core.display.Image object>"
      ]
     },
     "execution_count": 7,
     "metadata": {
      "image/jpeg": {
       "width": 1000
      }
     },
     "output_type": "execute_result"
    }
   ],
   "source": [
    "from IPython.display import Image #this is to render predictions\n",
    "Image(filename='inference/output/test1.jpeg', width=1000)"
   ]
  },
  {
   "cell_type": "code",
   "execution_count": null,
   "id": "a9575f03",
   "metadata": {
    "pycharm": {
     "name": "#%%\n"
    }
   },
   "outputs": [],
   "source": []
  }
 ],
 "metadata": {
  "kernelspec": {
   "display_name": "Python 3 (ipykernel)",
   "language": "python",
   "name": "python3"
  },
  "language_info": {
   "codemirror_mode": {
    "name": "ipython",
    "version": 3
   },
   "file_extension": ".py",
   "mimetype": "text/x-python",
   "name": "python",
   "nbconvert_exporter": "python",
   "pygments_lexer": "ipython3",
   "version": "3.7.13"
  }
 },
 "nbformat": 4,
 "nbformat_minor": 5
}